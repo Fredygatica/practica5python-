{
 "cells": [
  {
   "cell_type": "code",
   "execution_count": null,
   "metadata": {},
   "outputs": [],
   "source": [
    "import pandas as pd\n",
    "\n",
    "# Cargar el archivo CSV\n",
    "file_path = \"winemag-data-130k-v2.csv\"\n",
    "wine_df = pd.read_csv(file_path)\n",
    "\n",
    "# Explorar el DataFrame\n",
    "print(wine_df.info())  # Información sobre las columnas y los tipos de datos\n",
    "print(wine_df.head())  # Visualizar las primeras filas del DataFrame\n",
    "print(wine_df.describe())  # Estadísticas descriptivas de las columnas numéricas"
   ]
  },
  {
   "cell_type": "code",
   "execution_count": null,
   "metadata": {},
   "outputs": [],
   "source": [
    "# Renombrar columnas\n",
    "wine_df.rename(columns={'country': 'pais', 'points': 'puntuacion', 'price': 'precio', 'variety': 'variedad'}, inplace=True)"
   ]
  },
  {
   "cell_type": "code",
   "execution_count": null,
   "metadata": {},
   "outputs": [],
   "source": [
    "# Crear nuevas columnas\n",
    "wine_df['precio_puntuacion'] = wine_df['precio'] / wine_df['puntuacion']  # Precio por puntaje\n",
    "wine_df['puntuacion_round'] = wine_df['puntuacion'].apply(lambda x: round(x))  # Puntuación redondeada\n",
    "wine_df['precio_bin'] = pd.cut(wine_df['precio'], bins=[0, 20, 50, 100, float('inf')], labels=['0-20', '21-50', '51-100', '100+'])  # Categorización del precio"
   ]
  },
  {
   "cell_type": "code",
   "execution_count": null,
   "metadata": {},
   "outputs": [],
   "source": [
    "# Reporte 1: Promedio de precio de vino y cantidad de reviews según país, ordenado de mejor a peor\n",
    "reporte1 = wine_df.groupby('pais').agg({'precio': 'mean', 'points': 'count'}).sort_values(by='precio', ascending=False)\n",
    "\n",
    "# Reporte 2: Puntuación promedio de vinos por país\n",
    "reporte2 = wine_df.groupby('pais')['puntuacion'].mean()\n",
    "\n",
    "# Reporte 3: Cantidad de variedades de vino por país\n",
    "reporte3 = wine_df.groupby('pais')['variedad'].nunique()\n",
    "\n",
    "# Reporte 4: Precio promedio por bin de precio\n",
    "reporte4 = wine_df.groupby('precio_bin')['precio'].mean()\n",
    "\n",
    "# Almacenar el reporte 4 en un archivo Excel\n",
    "reporte4.to_excel(\"precio_promedio_por_bin.xlsx\")"
   ]
  }
 ],
 "metadata": {
  "kernelspec": {
   "display_name": "Python 3",
   "language": "python",
   "name": "python3"
  },
  "language_info": {
   "codemirror_mode": {
    "name": "ipython",
    "version": 3
   },
   "file_extension": ".py",
   "mimetype": "text/x-python",
   "name": "python",
   "nbconvert_exporter": "python",
   "pygments_lexer": "ipython3",
   "version": "3.10.13"
  }
 },
 "nbformat": 4,
 "nbformat_minor": 2
}
