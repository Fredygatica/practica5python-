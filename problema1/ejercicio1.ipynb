{
 "cells": [
  {
   "cell_type": "markdown",
   "metadata": {},
   "source": [
    "Resolucion del caso 01"
   ]
  },
  {
   "cell_type": "code",
   "execution_count": null,
   "metadata": {},
   "outputs": [],
   "source": [
    "# instalacion de libreria\n",
    "!pip install pandas"
   ]
  },
  {
   "cell_type": "code",
   "execution_count": null,
   "metadata": {},
   "outputs": [],
   "source": [
    "# CASO 1\n",
    "import pandas as pd\n",
    "df_airbnb = pd.read_csv(\"/workspaces/practica5python-/Data /airbnb.csv\")\n",
    "\n",
    "# condiciones del problema\n",
    "condition = ((df_airbnb['reviews'] >10) & (df_airbnb['overall_satisfaction'] >4))\n",
    "condition_2 = ((df_airbnb['accommodates']==4) & (df_airbnb['bedrooms']==3))\n",
    "\n",
    "df_filter = df_airbnb[condition]\n",
    "df_filter = df_airbnb[condition_2]\n",
    "\n",
    "# ordenamiento\n",
    "df_order = df_filter.sort_values(['overall_satisfaction', 'reviews'], ascending=[False, False])\n",
    "\n",
    "# top 3 \n",
    "df_order.head(3)"
   ]
  },
  {
   "cell_type": "markdown",
   "metadata": {},
   "source": [
    "Resolucion del caso 02"
   ]
  },
  {
   "cell_type": "code",
   "execution_count": null,
   "metadata": {},
   "outputs": [],
   "source": [
    "## Leyendo datos de tipo \"excel\"  \n",
    "!pip install openpyxl"
   ]
  },
  {
   "cell_type": "code",
   "execution_count": null,
   "metadata": {},
   "outputs": [],
   "source": [
    "#CASO 02\n",
    "import pandas as pd\n",
    "df_airbnb = pd.read_csv(\"/workspaces/practica5python-/Data /airbnb.csv\")\n",
    "\n",
    "# Filtrar las propiedades de Roberto (id=97503) y Clara (id=90387)\n",
    "roberto_clara_df = df_airbnb[(df_airbnb['id'] == 97503) | (df_airbnb['id'] == 90387)]\n",
    "\n",
    "# Guardar el DataFrame en un archivo Excel\n",
    "output_file = \"roberto.xls\"\n",
    "roberto_clara_df.to_excel(output_file, index=False)\n",
    "\n"
   ]
  },
  {
   "cell_type": "markdown",
   "metadata": {},
   "source": [
    "RESOLUCION CASO 03"
   ]
  },
  {
   "cell_type": "code",
   "execution_count": null,
   "metadata": {},
   "outputs": [],
   "source": [
    "#CAS0 03\n",
    "import pandas as pd\n",
    "df_airbnb = pd.read_csv(\"/workspaces/practica5python-/Data /airbnb.csv\")\n",
    "airbnb_df = pd.read_csv(df_airbnb)\n",
    "\n",
    "# Filtrar las propiedades que son habitaciones compartidas y tienen un precio menor o igual a 50€\n",
    "filtered_df = airbnb_df[(airbnb_df['room_type'] == 'Shared room') & (airbnb_df['price'] <= 50)]\n",
    "\n",
    "# Ordenar las propiedades por precio y puntuación en caso de habitaciones compartidas\n",
    "df_order= filtered_df.sort_values(by=['price', 'review_scores_rating'], ascending=[True, False])\n",
    "\n",
    "# Obtener las 10 propiedades más baratas\n",
    "top_10_properties = df_order.head(10)\n",
    "\n",
    "# Mostrar las 10 propiedades más baratas\n",
    "print(\"Las 10 propiedades más baratas para Diana en Lisboa son:\")\n",
    "print(top_10_properties)"
   ]
  }
 ],
 "metadata": {
  "kernelspec": {
   "display_name": "Python 3",
   "language": "python",
   "name": "python3"
  },
  "language_info": {
   "codemirror_mode": {
    "name": "ipython",
    "version": 3
   },
   "file_extension": ".py",
   "mimetype": "text/x-python",
   "name": "python",
   "nbconvert_exporter": "python",
   "pygments_lexer": "ipython3",
   "version": "3.10.13"
  }
 },
 "nbformat": 4,
 "nbformat_minor": 2
}
