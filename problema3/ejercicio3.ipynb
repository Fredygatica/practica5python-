{
 "cells": [
  {
   "cell_type": "code",
   "execution_count": null,
   "metadata": {},
   "outputs": [],
   "source": [
    "from procesamiento import *\n",
    "from envio_correo import enviar_correo\n",
    "\n",
    "# Cargar datos\n",
    "archivo_excel = 'reactiva.xlsx'\n",
    "datos_reactiva = pd.read_excel(archivo_excel)\n",
    "\n",
    "# Limpieza de datos\n",
    "datos_limpios = limpiar_columnas(datos_reactiva)\n",
    "\n",
    "# Obtener tasa de cambio del dólar desde la API de sunat\n",
    "# Supongamos que la función para obtener la tasa de cambio se llama obtener_tasa_cambio()\n",
    "tasa_cambio = obtener_tasa_cambio()\n",
    "\n",
    "# Dolarizar montos\n",
    "datos_dolarizados = dolarizar_montos(datos_limpios, tasa_cambio)\n",
    "\n",
    "# Mapear estados\n",
    "datos_mapeados = mapear_estado(datos_dolarizados)\n",
    "\n",
    "# Reportes y almacenamiento en base de datos\n",
    "# Supongamos que la función para almacenar en la base de datos es almacenar_en_base_de_datos()\n",
    "almacenar_en_base_de_datos(datos_mapeados)\n",
    "\n",
    "# Envío de correo con captura\n",
    "destinatario = 'destinatario@gmail.com'\n",
    "asunto = 'Reporte Reactiva'\n",
    "cuerpo = 'Adjuntamos el reporte de Reactiva.'\n",
    "archivo_adjunto = 'reporte_reactiva.xlsx'\n",
    "\n",
    "# Generar y adjuntar archivo Excel con el top 5 de inversión por región\n",
    "# Supongamos que la función para generar el Excel es generar_excel_top5()\n",
    "generar_excel_top5(datos_mapeados, archivo_adjunto)\n",
    "\n",
    "# Enviar correo con el archivo adjunto\n",
    "enviar_correo(destinatario, asunto, cuerpo)\n",
    "\n",
    "print(\"Correo enviado satisfactoriamente.\")"
   ]
  }
 ],
 "metadata": {
  "language_info": {
   "name": "python"
  }
 },
 "nbformat": 4,
 "nbformat_minor": 2
}
